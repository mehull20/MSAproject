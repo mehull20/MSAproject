{
 "cells": [
  {
   "cell_type": "code",
   "execution_count": 3,
   "metadata": {},
   "outputs": [
    {
     "name": "stdout",
     "output_type": "stream",
     "text": [
      "Synthetic business dataset generated successfully!\n"
     ]
    }
   ],
   "source": [
    "import csv\n",
    "import random\n",
    "from faker import Faker\n",
    "\n",
    "# Initialize Faker\n",
    "fake = Faker()\n",
    "\n",
    "# Function to generate random null values\n",
    "def generate_null(probability):\n",
    "    return random.random() < probability\n",
    "\n",
    "# Function to generate garbage values\n",
    "def generate_garbage(value, probability):\n",
    "    if random.random() < probability:\n",
    "        return fake.word()\n",
    "    return value\n",
    "\n",
    "# Function to generate outliers\n",
    "def generate_outlier(value, probability, mean, std_deviation):\n",
    "    if random.random() < probability:\n",
    "        return round(random.gauss(mean, std_deviation), 2)\n",
    "    return value\n",
    "\n",
    "# Function to generate synthetic business data\n",
    "def generate_business_data():\n",
    "    data = []\n",
    "    for i in range(1, 1001):\n",
    "        revenue = random.randint(1000, 100000)\n",
    "        expenses = random.randint(500, 50000)\n",
    "        profit = revenue - expenses\n",
    "        profit_margin = (profit / revenue) * 100 if revenue != 0 else 0\n",
    "        \n",
    "        data.append({\n",
    "            'BusinessName': fake.company(),\n",
    "            'Category': fake.random_element(elements=('Retail', 'Hospitality', 'Technology', 'Healthcare', 'Finance')),\n",
    "            'Revenue': generate_outlier(revenue, 0.05, 50000, 20000),\n",
    "            'Expenses': generate_outlier(expenses, 0.05, 20000, 10000),\n",
    "            'Profit': profit,\n",
    "            'ProfitMargin': generate_outlier(profit_margin, 0.05, 15, 5),\n",
    "            'City': fake.city(),\n",
    "            'State': fake.state_abbr(),\n",
    "            'ZipCode': fake.zipcode(),\n",
    "            'Latitude': round(fake.latitude(), 6),\n",
    "            'Longitude': round(fake.longitude(), 6),\n",
    "            'IsOpen': fake.random_element(elements=('Yes', 'No')),\n",
    "            'Wifi': fake.random_element(elements=('Free', 'Paid', 'None')),\n",
    "            'OutdoorSeating': fake.random_element(elements=('Available', 'Not available')),\n",
    "            'Delivery': fake.random_element(elements=('Available', 'Not available'))\n",
    "        })\n",
    "\n",
    "    return data\n",
    "\n",
    "# Generate CSV data\n",
    "with open('synthetic_business_data.csv', 'w', newline='') as csvfile:\n",
    "    fieldnames = ['BusinessName', 'Category', 'Revenue', 'Expenses', 'Profit', 'ProfitMargin',\n",
    "                  'City', 'State', 'ZipCode', 'Latitude', 'Longitude', 'IsOpen', 'Wifi', 'OutdoorSeating', 'Delivery']\n",
    "    writer = csv.DictWriter(csvfile, fieldnames=fieldnames)\n",
    "\n",
    "    writer.writeheader()\n",
    "\n",
    "    data = generate_business_data()\n",
    "\n",
    "    for row in data:\n",
    "        writer.writerow(row)\n",
    "\n",
    "print(\"Synthetic business dataset generated successfully!\")\n"
   ]
  },
  {
   "cell_type": "code",
   "execution_count": null,
   "metadata": {},
   "outputs": [],
   "source": []
  }
 ],
 "metadata": {
  "kernelspec": {
   "display_name": "msaproject",
   "language": "python",
   "name": "python3"
  },
  "language_info": {
   "codemirror_mode": {
    "name": "ipython",
    "version": 3
   },
   "file_extension": ".py",
   "mimetype": "text/x-python",
   "name": "python",
   "nbconvert_exporter": "python",
   "pygments_lexer": "ipython3",
   "version": "3.11.8"
  }
 },
 "nbformat": 4,
 "nbformat_minor": 2
}
